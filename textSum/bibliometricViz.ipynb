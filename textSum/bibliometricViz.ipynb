{
 "cells": [
  {
   "cell_type": "code",
   "execution_count": 83,
   "metadata": {},
   "outputs": [],
   "source": [
    "# make dataframe from excell\n",
    "import pandas as pd\n",
    "import numpy as np\n",
    "import matplotlib.pyplot as plt\n",
    "import os\n",
    "\n",
    "# loop through all files in folder\n",
    "def getDataframe(path):\n",
    "    merged = pd.DataFrame()\n",
    "    for r, d, f in os.walk(path):\n",
    "        for file in f:\n",
    "            if '.xls' in file:\n",
    "                merged = pd.concat([merged, pd.read_excel(os.path.join(r, file))], ignore_index=True)\n",
    "    # merged.reindex(sorted(merged.columns), axis=1)\n",
    "    return merged\n",
    "\n",
    "df = getDataframe('./records')\n",
    "columns = df.columns"
   ]
  },
  {
   "cell_type": "code",
   "execution_count": 84,
   "metadata": {},
   "outputs": [
    {
     "name": "stdout",
     "output_type": "stream",
     "text": [
      "Avg Page Num: 14.95368782161235\n",
      "Avg Cited Reference Count: 42.079\n",
      "1887\n",
      "category\n",
      "Computer Science, Artificial Intelligence           390\n",
      "Computer Science, Information Systems               324\n",
      "Engineering, Electrical & Electronic                173\n",
      "Computer Science, Theory & Methods                  126\n",
      "Computer Science, Interdisciplinary Applications    104\n",
      "                                                   ... \n",
      "Social Sciences, Interdisciplinary                    1\n",
      "Social Sciences, Mathematical Methods                 1\n",
      "Sociology                                             1\n",
      "Communication                                         1\n",
      "Biology                                               1\n",
      "Name: category, Length: 65, dtype: int64\n"
     ]
    }
   ],
   "source": [
    "def getDiff(pagesCol =  ['End Page', 'Start Page']):\n",
    "    baseStats = df[pagesCol].copy()\n",
    "    baseStats.dropna(inplace=True)\n",
    "    baseStats.replace('+', regex=True, inplace=True)\n",
    "\n",
    "    sum = 0\n",
    "    count = 0\n",
    "    baseStats.head()\n",
    "    for i in baseStats.index:\n",
    "        if type(baseStats.at[i, 'End Page']) == int and type(baseStats.at[i, 'Start Page']) == int:\n",
    "            sum += (baseStats.at[i, 'End Page'] - baseStats.at[i, 'Start Page'])\n",
    "            count += 1\n",
    "    return sum / count\n",
    "\n",
    "print(\"Avg Page Num:\", getDiff())\n",
    "print(\"Avg Cited Reference Count:\", df['Cited Reference Count'].mean())\n",
    "\n",
    "\n",
    "def getCats():\n",
    "    baseStats = df[['WoS Categories']].copy()\n",
    "    emptyStuff = []\n",
    "    for i in baseStats.index:\n",
    "        if type(baseStats.at[i, 'WoS Categories']) == str:\n",
    "            for j in baseStats.at[i, 'WoS Categories'].split(';'):\n",
    "                emptyStuff.append(j.strip())\n",
    "    dfToWork = pd.DataFrame(emptyStuff, columns=['category'])\n",
    "    print(len(emptyStuff))\n",
    "    print(dfToWork.groupby('category')['category'].agg('count').sort_values(ascending=False))\n",
    "getCats()"
   ]
  },
  {
   "cell_type": "code",
   "execution_count": 85,
   "metadata": {},
   "outputs": [
    {
     "data": {
      "text/plain": [
       "<matplotlib.legend.Legend at 0x7f675a75f370>"
      ]
     },
     "execution_count": 85,
     "metadata": {},
     "output_type": "execute_result"
    },
    {
     "data": {
      "image/png": "[encoded data removed]",
      "text/plain": [
       "<Figure size 432x288 with 1 Axes>"
      ]
     },
     "metadata": {
      "needs_background": "light"
     },
     "output_type": "display_data"
    }
   ],
   "source": [
    "def getPagesCount(pagesCol =  ['End Page', 'Start Page']):\n",
    "    baseStats = df[pagesCol].copy()\n",
    "    # baseStats.dropna(inplace=True)\n",
    "    # baseStats.replace('+', regex=True, inplace=True)\n",
    "\n",
    "    sum = []\n",
    "    count = 0\n",
    "    baseStats.head()\n",
    "    for i in baseStats.index:\n",
    "        if type(baseStats.at[i, 'End Page']) == int and type(baseStats.at[i, 'Start Page']) == int:\n",
    "            sum.append((baseStats.at[i, 'End Page'] - baseStats.at[i, 'Start Page']))\n",
    "            count += 1\n",
    "        else:\n",
    "            sum.append(0)\n",
    "    return sum\n",
    "\n",
    "\n",
    "distributionDf = pd.DataFrame()\n",
    "distributionDf['keyword_count'] = df['Author Keywords'].str.len()\n",
    "distributionDf['keyword_count'].replace(np.nan, 0, inplace=True)\n",
    "\n",
    "distributionDf['author_count'] = df['Author Full Names'].str.len()\n",
    "distributionDf['author_count'].replace(np.nan, 0, inplace=True)\n",
    "distributionDf['page_count'] = getPagesCount()\n",
    "\n",
    "# plot everything in distributionDf\n",
    "fig, ax = plt.subplots()\n",
    "ax.hist(distributionDf['keyword_count'], bins=100, density=True, label='Keywords', ls='dashed', lw=3, fc=(0, 0, 1, 0.5))\n",
    "ax.hist(distributionDf['author_count'], bins=100, density=True, label='Authors', ls='dotted', lw=3, fc=(1, 0, 0, 0.5))\n",
    "ax.hist(distributionDf['page_count'], bins=100, density=True, label='Pages', lw=3, fc=(0, 0, 0, 0.5))\n",
    "ax.legend()\n"
   ]
  },
  {
   "cell_type": "code",
   "execution_count": 93,
   "metadata": {},
   "outputs": [
    {
     "data": {
      "text/plain": [
       "<matplotlib.legend.Legend at 0x7f675944f8e0>"
      ]
     },
     "execution_count": 93,
     "metadata": {},
     "output_type": "execute_result"
    },
    {
     "data": {
      "image/png": "[encoded data removed]",
      "text/plain": [
       "<Figure size 432x288 with 1 Axes>"
      ]
     },
     "metadata": {
      "needs_background": "light"
     },
     "output_type": "display_data"
    }
   ],
   "source": [
    "distributionDf['abstr_len'] = df['Abstract'].str.len()\n",
    "distributionDf['title_len'] = df['Article Title'].str.len()\n",
    "fig, ax = plt.subplots()\n",
    "ax.hist(distributionDf['abstr_len'], bins=100, density=True, label='Abstract char count', ls='dashed', lw=3, fc=(0, 0, 1, 0.5))\n",
    "# ax.hist(distributionDf['title_len'], bins=100, density=True, label='Title char count', ls='dotted', lw=3, fc=(1, 0, 0, 0.5))\n",
    "ax.legend()\n"
   ]
  },
  {
   "cell_type": "code",
   "execution_count": 87,
   "metadata": {},
   "outputs": [
    {
     "name": "stdout",
     "output_type": "stream",
     "text": [
      "   year  pubCount  totalCite  meanCite\n",
      "0  1999         5          2        11\n",
      "1  2000        10          9        17\n",
      "2  2001        13         10        13\n",
      "3  2002        18         15        46\n",
      "4  2003        19         17        10\n"
     ]
    }
   ],
   "source": [
    "# create graph with publications by Year\n",
    "def plotPublicationsByYear(df):\n",
    "    countsDf = df.groupby(['Publication Year'])['Publication Year'].agg(\"count\").sort_index()\n",
    "    countsDf.to_json('./publicationsByYear.json')\n",
    "    plt.bar(countsDf.index.astype(int), countsDf.values.astype(int))\n",
    "    plt.title('Number of Publications per Publication Year')\n",
    "    plt.xlabel('Publication Year')\n",
    "    plt.ylabel('Number of Publications')\n",
    "    plt.show()\n",
    "\n",
    "def plotTimesCitedMean(df):\n",
    "    countsDf = df.groupby(['Publication Year'])['Times Cited, WoS Core'].agg('mean').sort_index()\n",
    "    countsDf.to_json('./timesCitedMean.json')\n",
    "    plt.bar(countsDf.index.astype(int), countsDf.values.astype(int))\n",
    "    plt.title('Average Number of Citations per Publication Year')\n",
    "    plt.xlabel('Publication Year')\n",
    "    plt.ylabel('Average Number of Citations')\n",
    "    plt.show()\n",
    "\n",
    "\n",
    "data = {\n",
    "    \"year\": df.groupby(['Publication Year'])['Publication Year'].agg(\"count\").sort_index().index.astype(int),\n",
    "    \"pubCount\": df.groupby(['Publication Year'])['Publication Year'].agg(\"count\").sort_index().values.astype(int),\n",
    "    \"totalCite\": df.groupby(['Publication Year'])['Times Cited, WoS Core'].agg('count').sort_index().values.astype(int),\n",
    "    \"meanCite\": df.groupby(['Publication Year'])['Times Cited, WoS Core'].agg('mean').sort_index().values.astype(int),\n",
    "}\n",
    "\n",
    "countsDf = pd.DataFrame(data=data)\n",
    "print(countsDf.head())\n",
    "countsDf.to_csv('./timesCitedMean.csv')"
   ]
  },
  {
   "cell_type": "code",
   "execution_count": 88,
   "metadata": {},
   "outputs": [
    {
     "name": "stdout",
     "output_type": "stream",
     "text": [
      "                            OLS Regression Results                            \n",
      "==============================================================================\n",
      "Dep. Variable:                      y   R-squared:                       0.570\n",
      "Model:                            OLS   Adj. R-squared:                  0.550\n",
      "Method:                 Least Squares   F-statistic:                     29.15\n",
      "Date:                Mon, 09 May 2022   Prob (F-statistic):           2.02e-05\n",
      "Time:                        14:05:56   Log-Likelihood:                -118.68\n",
      "No. Observations:                  24   AIC:                             241.4\n",
      "Df Residuals:                      22   BIC:                             243.7\n",
      "Df Model:                           1                                         \n",
      "Covariance Type:            nonrobust                                         \n",
      "==============================================================================\n",
      "                 coef    std err          t      P>|t|      [0.025      0.975]\n",
      "------------------------------------------------------------------------------\n",
      "const      -1.131e+04   2105.047     -5.371      0.000   -1.57e+04   -6940.177\n",
      "x1             5.6526      1.047      5.399      0.000       3.481       7.824\n",
      "==============================================================================\n",
      "Omnibus:                        6.093   Durbin-Watson:                   1.187\n",
      "Prob(Omnibus):                  0.048   Jarque-Bera (JB):                5.969\n",
      "Skew:                          -0.284   Prob(JB):                       0.0506\n",
      "Kurtosis:                       5.376   Cond. No.                     5.84e+05\n",
      "==============================================================================\n",
      "\n",
      "Notes:\n",
      "[1] Standard Errors assume that the covariance matrix of the errors is correctly specified.\n",
      "[2] The condition number is large, 5.84e+05. This might indicate that there are\n",
      "strong multicollinearity or other numerical problems.\n"
     ]
    },
    {
     "data": {
      "image/png": "[encoded data removed]",
      "text/plain": [
       "<Figure size 432x288 with 1 Axes>"
      ]
     },
     "metadata": {
      "needs_background": "light"
     },
     "output_type": "display_data"
    },
    {
     "data": {
      "text/plain": [
       "<Figure size 1152x360 with 0 Axes>"
      ]
     },
     "metadata": {},
     "output_type": "display_data"
    }
   ],
   "source": [
    "from itertools import groupby\n",
    "import statsmodels.api as sm\n",
    "allData = df['Publication Year'].dropna(axis=0, how='any').astype(int).sort_values().value_counts(sort=False)\n",
    "x = allData.index.values.astype(int)\n",
    "y = allData.values\n",
    "# create multi linear regression\n",
    "X = sm.add_constant(x)\n",
    "model = sm.OLS(y, X)\n",
    "results = model.fit()\n",
    "print(results.summary())\n",
    "# plot regression\n",
    "plt.plot(x, y, 'o', x, results.predict(X), '-')\n",
    "plt.title('Publications by Year')\n",
    "plt.xlabel('Year')\n",
    "plt.ylabel('Number of Publications')\n",
    "plt.figure(figsize=(16,5))\n",
    "plt.show()\n",
    "\n"
   ]
  }
 ],
 "metadata": {
  "interpreter": {
   "hash": "767d51c1340bd893661ea55ea3124f6de3c7a262a8b4abca0554b478b1e2ff90"
  },
  "kernelspec": {
   "display_name": "Python 3.8.10 64-bit",
   "language": "python",
   "name": "python3"
  },
  "language_info": {
   "codemirror_mode": {
    "name": "ipython",
    "version": 3
   },
   "file_extension": ".py",
   "mimetype": "text/x-python",
   "name": "python",
   "nbconvert_exporter": "python",
   "pygments_lexer": "ipython3",
   "version": "3.8.10"
  },
  "orig_nbformat": 4
 },
 "nbformat": 4,
 "nbformat_minor": 2
}
